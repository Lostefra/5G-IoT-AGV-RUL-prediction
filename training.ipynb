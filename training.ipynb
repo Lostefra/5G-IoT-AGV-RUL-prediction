{
  "cells": [
    {
      "cell_type": "markdown",
      "id": "0d267c5c",
      "metadata": {
        "id": "0d267c5c"
      },
      "source": [
        "# Training"
      ]
    },
    {
      "cell_type": "code",
      "execution_count": null,
      "id": "893fb328",
      "metadata": {
        "id": "893fb328"
      },
      "outputs": [],
      "source": [
        "# Prediction margin: the only parameter to set. Recommended: margin in {5, 10} (aka 0.5, 1 second)\n",
        "margin = 5"
      ]
    },
    {
      "cell_type": "markdown",
      "id": "3df02c22",
      "metadata": {
        "id": "3df02c22"
      },
      "source": [
        "## Import libraries and define utility functions"
      ]
    },
    {
      "cell_type": "code",
      "execution_count": null,
      "id": "d3375203",
      "metadata": {
        "id": "d3375203"
      },
      "outputs": [],
      "source": [
        "import pandas as pd\n",
        "import numpy as np\n",
        "import sys\n",
        "import random\n",
        "import pickle\n",
        "import matplotlib.pyplot as plt\n",
        "from sklearn.preprocessing import StandardScaler\n",
        "from math import floor\n",
        "from tensorflow import keras\n",
        "from tensorflow.keras import layers, callbacks\n",
        "import tensorflow as tf"
      ]
    },
    {
      "cell_type": "code",
      "execution_count": null,
      "id": "6134da76",
      "metadata": {
        "id": "6134da76"
      },
      "outputs": [],
      "source": [
        "# If you have more than one GPU in your system, the GPU with the lowest ID will be selected by default.\n",
        "# https://www.tensorflow.org/guide/gpu#using_a_single_gpu_on_a_multi-gpu_system\n",
        "print(\"Num GPUs Available:\", len(tf.config.list_physical_devices('GPU')))"
      ]
    },
    {
      "cell_type": "code",
      "execution_count": null,
      "id": "c34a05dd",
      "metadata": {
        "id": "c34a05dd"
      },
      "outputs": [],
      "source": [
        "mean = lambda l: sum(l) / len(l)"
      ]
    },
    {
      "cell_type": "code",
      "execution_count": null,
      "id": "7bf3b3b8",
      "metadata": {
        "id": "7bf3b3b8"
      },
      "outputs": [],
      "source": [
        "def serialize_perf(model_name, seed, columns_name, training_columns, params, params_idx,\n",
        "                   history, best_cost, best_thr, all_cost, all_thr, perf):\n",
        "    f_path = results_path + model_name + \"-\" + columns_name + \"-s\" + str(seed) + \"-p\" + str(params_idx)\n",
        "    to_serialize = (training_columns, params, history, best_cost, best_thr, all_cost, all_thr, perf)\n",
        "    with open(f_path, \"wb\") as file:\n",
        "        pickle.dump(to_serialize, file)"
      ]
    },
    {
      "cell_type": "markdown",
      "id": "a5b3b931",
      "metadata": {
        "id": "a5b3b931"
      },
      "source": [
        "#### Set up global variables"
      ]
    },
    {
      "cell_type": "code",
      "execution_count": null,
      "id": "e0d48c12",
      "metadata": {
        "id": "e0d48c12"
      },
      "outputs": [],
      "source": [
        "pd.set_option('display.float_format', lambda x: '%.4f' % x)"
      ]
    },
    {
      "cell_type": "code",
      "execution_count": null,
      "id": "19b1f7e7",
      "metadata": {
        "id": "19b1f7e7"
      },
      "outputs": [],
      "source": [
        "results_path = \"results_\" + str(margin) + \"/\"\n",
        "models_path = \"models_\" + str(margin) + \"/\"\n",
        "threshold_path = \"threshold_\" + str(margin) + \"/\"\n",
        "seeds = list(range(1000, 3000, 100))\n",
        "\n",
        "def set_determinism(seed):\n",
        "    tf.keras.utils.set_random_seed(seed)\n",
        "    tf.config.experimental.enable_op_determinism()"
      ]
    },
    {
      "cell_type": "code",
      "execution_count": null,
      "id": "c472a1f8",
      "metadata": {
        "id": "c472a1f8"
      },
      "outputs": [],
      "source": [
        "patience = 50\n",
        "epochs = 2000\n",
        "batch_size = 64\n",
        "learning_rate = 0.0001\n",
        "validation_split = 0.2"
      ]
    },
    {
      "cell_type": "code",
      "execution_count": null,
      "id": "2945999a",
      "metadata": {
        "id": "2945999a"
      },
      "outputs": [],
      "source": [
        "w5_features_no_diff = [\n",
        " 'Gz_mean_w5',\n",
        " 'Ax_mean_w5',\n",
        " 'Ay_mean_w5',\n",
        " 'Gz_std_w5',\n",
        " 'Ax_std_w5',\n",
        " 'Ay_std_w5',\n",
        " 'Gz_min_w5',\n",
        " 'Ax_min_w5',\n",
        " 'Ay_min_w5',\n",
        " 'Gz_max_w5',\n",
        " 'Ax_max_w5',\n",
        " 'Ay_max_w5'\n",
        "]\n",
        "\n",
        "w5_features_diff = [\n",
        " 'differencing_Gz_mean_w5',\n",
        " 'differencing_Ax_mean_w5',\n",
        " 'differencing_Ay_mean_w5',\n",
        " 'differencing_Gz_std_w5',\n",
        " 'differencing_Ax_std_w5',\n",
        " 'differencing_Ay_std_w5',\n",
        " 'differencing_Gz_min_w5',\n",
        " 'differencing_Ax_min_w5',\n",
        " 'differencing_Ay_min_w5',\n",
        " 'differencing_Gz_max_w5',\n",
        " 'differencing_Ax_max_w5',\n",
        " 'differencing_Ay_max_w5',\n",
        "]\n",
        "\n",
        "w10_features_no_diff = [\n",
        " 'Gz_mean_w10',\n",
        " 'Ax_mean_w10',\n",
        " 'Ay_mean_w10',\n",
        " 'Gz_std_w10',\n",
        " 'Ax_std_w10',\n",
        " 'Ay_std_w10',\n",
        " 'Gz_min_w10',\n",
        " 'Ax_min_w10',\n",
        " 'Ay_min_w10',\n",
        " 'Gz_max_w10',\n",
        " 'Ax_max_w10',\n",
        " 'Ay_max_w10'\n",
        "]\n",
        "\n",
        "w10_features_diff = [\n",
        " 'differencing_Gz_mean_w10',\n",
        " 'differencing_Ax_mean_w10',\n",
        " 'differencing_Ay_mean_w10',\n",
        " 'differencing_Gz_std_w10',\n",
        " 'differencing_Ax_std_w10',\n",
        " 'differencing_Ay_std_w10',\n",
        " 'differencing_Gz_min_w10',\n",
        " 'differencing_Ax_min_w10',\n",
        " 'differencing_Ay_min_w10',\n",
        " 'differencing_Gz_max_w10',\n",
        " 'differencing_Ax_max_w10',\n",
        " 'differencing_Ay_max_w10'\n",
        "]\n",
        "\n",
        "w15_features_no_diff = [\n",
        " 'Gz_mean_w15',\n",
        " 'Ax_mean_w15',\n",
        " 'Ay_mean_w15',\n",
        " 'Gz_std_w15',\n",
        " 'Ax_std_w15',\n",
        " 'Ay_std_w15',\n",
        " 'Gz_min_w15',\n",
        " 'Ax_min_w15',\n",
        " 'Ay_min_w15',\n",
        " 'Gz_max_w15',\n",
        " 'Ax_max_w15',\n",
        " 'Ay_max_w15'\n",
        "]\n",
        "\n",
        "w15_features_diff = [\n",
        " 'differencing_Gz_mean_w15',\n",
        " 'differencing_Ax_mean_w15',\n",
        " 'differencing_Ay_mean_w15',\n",
        " 'differencing_Gz_std_w15',\n",
        " 'differencing_Ax_std_w15',\n",
        " 'differencing_Ay_std_w15',\n",
        " 'differencing_Gz_min_w15',\n",
        " 'differencing_Ax_min_w15',\n",
        " 'differencing_Ay_min_w15',\n",
        " 'differencing_Gz_max_w15',\n",
        " 'differencing_Ax_max_w15',\n",
        " 'differencing_Ay_max_w15'\n",
        "]\n",
        "\n",
        "w20_features_no_diff = [\n",
        " 'Gz_mean_w20',\n",
        " 'Ax_mean_w20',\n",
        " 'Ay_mean_w20',\n",
        " 'Gz_std_w20',\n",
        " 'Ax_std_w20',\n",
        " 'Ay_std_w20',\n",
        " 'Gz_min_w20',\n",
        " 'Ax_min_w20',\n",
        " 'Ay_min_w20',\n",
        " 'Gz_max_w20',\n",
        " 'Ax_max_w20',\n",
        " 'Ay_max_w20'\n",
        "]\n",
        "\n",
        "w20_features_diff = [\n",
        " 'differencing_Gz_mean_w20',\n",
        " 'differencing_Ax_mean_w20',\n",
        " 'differencing_Ay_mean_w20',\n",
        " 'differencing_Gz_std_w20',\n",
        " 'differencing_Ax_std_w20',\n",
        " 'differencing_Ay_std_w20',\n",
        " 'differencing_Gz_min_w20',\n",
        " 'differencing_Ax_min_w20',\n",
        " 'differencing_Ay_min_w20',\n",
        " 'differencing_Gz_max_w20',\n",
        " 'differencing_Ax_max_w20',\n",
        " 'differencing_Ay_max_w20',\n",
        "]\n",
        "\n",
        "features = {\n",
        "    \"all_features\": w5_features_no_diff + w10_features_no_diff + w15_features_no_diff + w20_features_no_diff + w5_features_diff + w10_features_diff + w15_features_diff + w20_features_diff + ['label'],\n",
        "    \"w5_features\": w5_features_no_diff + w5_features_diff + ['label'],\n",
        "    \"w10_features\": w10_features_no_diff + w10_features_diff + ['label'],\n",
        "    \"w15_features\": w15_features_no_diff + w15_features_diff + ['label'],\n",
        "    \"w20_features\": w20_features_no_diff + w20_features_diff + ['label'],\n",
        "    \"no_diff_features\": w5_features_no_diff + w10_features_no_diff + w15_features_no_diff + w20_features_no_diff + ['label'],\n",
        "    \"diff_features\": w5_features_diff + w10_features_diff + w15_features_diff + w20_features_diff + ['label']\n",
        "}"
      ]
    },
    {
      "cell_type": "markdown",
      "id": "c2be90c9",
      "metadata": {
        "id": "c2be90c9"
      },
      "source": [
        "#### Data import"
      ]
    },
    {
      "cell_type": "code",
      "execution_count": null,
      "id": "8bdea77b",
      "metadata": {
        "id": "8bdea77b"
      },
      "outputs": [],
      "source": [
        "df = pd.read_csv(\"5G_IIoT_RUL_dataset/train/training_\" + str(margin) + \".csv\", index_col=[0])"
      ]
    },
    {
      "cell_type": "code",
      "execution_count": null,
      "id": "967ad76e",
      "metadata": {
        "id": "967ad76e"
      },
      "outputs": [],
      "source": [
        "print(len(df), \"rows in the dataset\")\n",
        "print(df.columns)\n",
        "df.describe()"
      ]
    },
    {
      "cell_type": "markdown",
      "id": "e5765f47",
      "metadata": {
        "id": "e5765f47"
      },
      "source": [
        "# Machine learning: training phase"
      ]
    },
    {
      "cell_type": "markdown",
      "id": "d279553f",
      "metadata": {
        "id": "d279553f"
      },
      "source": [
        "## Dataset preprocessing for machine learning models\n",
        "\n",
        "In this section, RUL labels are converted to binary labels (`0/1`, namely `not_fault/fault`) in order to perform classification instead of regression.\n",
        "\n",
        "For the `AutoEncoder` model, the dataset is partitioned such that the training set does not contain faults or samples which anticipate a fault. In other words, each sample must be compliant with the `good_samples_thr` threshold.\n",
        "\n",
        "We basically need an entire section of dataset where faults are not present."
      ]
    },
    {
      "cell_type": "code",
      "execution_count": null,
      "id": "d19cf5c1",
      "metadata": {
        "id": "d19cf5c1"
      },
      "outputs": [],
      "source": [
        "def build_dataset_for_ml_model(df, training_columns, split_size=0.75, as_list=False, ae=False):\n",
        "    dfs = []\n",
        "    df_main = df[training_columns]\n",
        "    fault_indexes = df_main.index[df_main[\"label\"] == 0].tolist() # list of indexes representing faults\n",
        "    good_samples_thr = margin * 2\n",
        "\n",
        "    previous = 0\n",
        "    for fi in fault_indexes:\n",
        "        dfs.append(df_main.iloc[previous:fi+1, :])\n",
        "        previous = fi + 1\n",
        "\n",
        "    rnd_list = list(range(len(dfs)))\n",
        "\n",
        "    # If split_size is 1, there will be no val/test set\n",
        "    train_size = floor(len(dfs) * split_size)\n",
        "    train_index = rnd_list[:train_size]\n",
        "    test_index = rnd_list[train_size:]\n",
        "    train_rul = []\n",
        "    test_rul = []\n",
        "\n",
        "    if not as_list:\n",
        "        first = True\n",
        "        for ti in train_index:\n",
        "            if not ae:\n",
        "                to_concat = dfs[ti].copy()\n",
        "            else:\n",
        "                to_concat = dfs[ti][dfs[ti][\"label\"] >= good_samples_thr].copy()\n",
        "            if first:\n",
        "                training_set = to_concat\n",
        "                first = False\n",
        "            else:\n",
        "                training_set = pd.concat([training_set, to_concat])\n",
        "\n",
        "        first = True\n",
        "        for ti in test_index:\n",
        "            to_concat = dfs[ti].copy()\n",
        "            if first:\n",
        "                test_set = to_concat\n",
        "                first = False\n",
        "            else:\n",
        "                test_set = pd.concat([test_set, to_concat])\n",
        "\n",
        "        train_rul = training_set['label'].tolist()\n",
        "        if split_size < 1:\n",
        "            test_rul = test_set['label'].tolist()\n",
        "\n",
        "        training_set['label'] = (training_set['label'] >= margin).map({True: 1, False: 0})\n",
        "        if split_size < 1:\n",
        "            test_set['label'] = (test_set['label'] >= margin).map({True: 1, False: 0})\n",
        "\n",
        "        training_set = training_set.to_numpy()\n",
        "        if split_size < 1:\n",
        "            test_set = test_set.to_numpy()\n",
        "\n",
        "    else:\n",
        "        first = True\n",
        "        for ti in train_index:\n",
        "            if not ae:\n",
        "                to_concat = dfs[ti].copy()\n",
        "            else:\n",
        "                to_concat = dfs[ti][dfs[ti][\"label\"] >= good_samples_thr].copy()\n",
        "            if first:\n",
        "                training_set = [to_concat]\n",
        "                first = False\n",
        "            else:\n",
        "                training_set.append(to_concat)\n",
        "\n",
        "        first = True\n",
        "        for ti in test_index:\n",
        "            to_concat = dfs[ti].copy()\n",
        "            if first:\n",
        "                test_set = [to_concat]\n",
        "                first = False\n",
        "            else:\n",
        "                test_set.append(to_concat)\n",
        "\n",
        "        for t in training_set:\n",
        "            train_rul = train_rul + t['label'].tolist()\n",
        "            t['label'] = (t['label'] >= margin).map({True: 1, False: 0})\n",
        "        if split_size < 1:\n",
        "            for t in test_set:\n",
        "                test_rul = test_rul + t['label'].tolist()\n",
        "                t['label'] = (t['label'] >= margin).map({True: 1, False: 0})\n",
        "    if split_size < 1:\n",
        "        return training_set, test_set\n",
        "    return training_set"
      ]
    },
    {
      "cell_type": "markdown",
      "id": "0c131072",
      "metadata": {
        "id": "0c131072"
      },
      "source": [
        "## Cost model for threshold optimization and performance evaluation"
      ]
    },
    {
      "cell_type": "code",
      "execution_count": null,
      "id": "f7551194",
      "metadata": {
        "id": "f7551194"
      },
      "outputs": [],
      "source": [
        "BASE_FP = 0.2\n",
        "BASE_FN = 1\n",
        "\n",
        "def false_positive_cost(i, is_fault, fault_found):\n",
        "    return BASE_FP\n",
        "\n",
        "def false_negative_cost(i, is_fault, fault_found):\n",
        "    if not fault_found:\n",
        "        for j in range(1, margin + 1):\n",
        "            if i + j < is_fault.shape[0] and not is_fault[i + j] or i + j >= is_fault.shape[0]:\n",
        "                return (margin + 1 - j) * BASE_FN\n",
        "    else:\n",
        "        return 0"
      ]
    },
    {
      "cell_type": "code",
      "execution_count": null,
      "id": "c1359dec",
      "metadata": {
        "id": "c1359dec"
      },
      "outputs": [],
      "source": [
        "def threshold_optimization(signal, rul, start, end, n_steps):\n",
        "    best_cost = sys.maxsize\n",
        "    best_thr = -1\n",
        "    all_cost = []\n",
        "    all_thr = []\n",
        "    is_fault = (rul == 0)\n",
        "\n",
        "    for thr in np.linspace(start, end, n_steps):\n",
        "        tmp_cost = 0\n",
        "        fault_found = False\n",
        "        for i in range(signal.shape[0]):\n",
        "            if is_fault[i] and signal[i] >= thr:\n",
        "                fault_found = True\n",
        "            if not is_fault[i]:\n",
        "                fault_found = False\n",
        "            if not is_fault[i] and signal[i] >= thr:\n",
        "                tmp_cost += false_positive_cost(i, is_fault, fault_found)\n",
        "            elif is_fault[i] and signal[i] <= thr:\n",
        "                tmp_cost += false_negative_cost(i, is_fault, fault_found)\n",
        "        if tmp_cost < best_cost:\n",
        "            best_thr = thr\n",
        "            best_cost = tmp_cost\n",
        "        all_cost.append(tmp_cost)\n",
        "        all_thr.append(thr)\n",
        "\n",
        "    return best_cost, best_thr, all_cost, all_thr"
      ]
    },
    {
      "cell_type": "code",
      "execution_count": null,
      "id": "5eacfd9a",
      "metadata": {
        "id": "5eacfd9a"
      },
      "outputs": [],
      "source": [
        "def plot_threshold(signal, thr, rul):\n",
        "\n",
        "    plt.plot(signal, alpha=0.5)\n",
        "    plt.plot(range(len(signal)), [thr] * len(signal))\n",
        "\n",
        "    ranges = []\n",
        "    signal_values = []\n",
        "    for i in range(len(rul)):\n",
        "        if rul[i] == 0:\n",
        "            ranges.append(i)\n",
        "            signal_values.append(signal[i])\n",
        "\n",
        "    plt.scatter(ranges, signal_values, color=\"red\", s=10)\n",
        "\n",
        "    plt.ylabel('Alarm signal intensity')\n",
        "    plt.xlabel('Time')\n",
        "    plt.legend(['Alarm signal', \"Threshold\", 'Anomalies'], loc='upper right')\n",
        "    plt.show()\n",
        "    plt.show()"
      ]
    },
    {
      "cell_type": "code",
      "execution_count": null,
      "id": "14a8cce1",
      "metadata": {
        "id": "14a8cce1"
      },
      "outputs": [],
      "source": [
        "def performance_evaluation(signal, thr, rul):\n",
        "    fp, fn, tp, tot_p = 0, 0, 0, 0\n",
        "    cost = 0\n",
        "    alarm = (signal >= thr)\n",
        "    anticipation = []\n",
        "    is_fault = (rul == 0)\n",
        "\n",
        "    fault_found = False\n",
        "    for i in range(len(rul)):\n",
        "        if i > 0 and is_fault[i] and not is_fault[i - 1]:\n",
        "            tot_p += 1\n",
        "            start = i\n",
        "        if is_fault[i] and not fault_found and alarm[i]:\n",
        "            tp += 1\n",
        "            fault_found = True\n",
        "            anticipation.append((margin - 1) - (i - start))\n",
        "        if (i < len(rul) - 1 and is_fault[i] and not is_fault[i + 1] and not fault_found) or (i == len(rul) - 1 and not fault_found):\n",
        "            fn += 1\n",
        "        if is_fault[i] and signal[i] <= thr:\n",
        "            cost += false_negative_cost(i, is_fault, fault_found)\n",
        "        if not is_fault[i]:\n",
        "            fault_found = False\n",
        "            if alarm[i]:\n",
        "                fp += 1\n",
        "                cost += false_positive_cost(i, is_fault, fault_found)\n",
        "\n",
        "    tot_a = sum(anticipation) / 10\n",
        "    if sum(anticipation) > 0:\n",
        "        mean_a = mean(anticipation) / 10\n",
        "    else:\n",
        "        mean_a = 0\n",
        "\n",
        "    return [cost, mean_a, tp, fn, fp]"
      ]
    },
    {
      "cell_type": "markdown",
      "id": "89ec634d",
      "metadata": {
        "id": "89ec634d"
      },
      "source": [
        "## Baseline: raw signal pre-anomaly detection"
      ]
    },
    {
      "cell_type": "code",
      "execution_count": null,
      "id": "94a954fe",
      "metadata": {
        "id": "94a954fe"
      },
      "outputs": [],
      "source": [
        "features_raw = [\n",
        " 'Ax',\n",
        " 'Ax_diff',\n",
        " 'Ax_mean_w5',\n",
        " 'Ax_std_w5',\n",
        " 'Ax_min_w5',\n",
        " 'Ax_max_w5',\n",
        " 'Ax_mean_w10',\n",
        " 'Ax_std_w10',\n",
        " 'Ax_min_w10',\n",
        " 'Ax_max_w10',\n",
        " 'Ax_mean_w15',\n",
        " 'Ax_std_w15',\n",
        " 'Ax_min_w15',\n",
        " 'Ax_max_w15',\n",
        " 'Ax_mean_w20',\n",
        " 'Ax_std_w20',\n",
        " 'Ax_min_w20',\n",
        " 'Ax_max_w20',\n",
        " 'differencing_Ax',\n",
        " 'differencing_Ax_diff',\n",
        " 'differencing_Ax_mean_w5',\n",
        " 'differencing_Ax_std_w5',\n",
        " 'differencing_Ax_min_w5',\n",
        " 'differencing_Ax_max_w5',\n",
        " 'differencing_Ax_mean_w10',\n",
        " 'differencing_Ax_std_w10',\n",
        " 'differencing_Ax_min_w10',\n",
        " 'differencing_Ax_max_w10',\n",
        " 'differencing_Ax_mean_w15',\n",
        " 'differencing_Ax_std_w15',\n",
        " 'differencing_Ax_min_w15',\n",
        " 'differencing_Ax_max_w15',\n",
        " 'differencing_Ax_mean_w20',\n",
        " 'differencing_Ax_std_w20',\n",
        " 'differencing_Ax_min_w20',\n",
        " 'differencing_Ax_max_w20',\n",
        "]\n",
        "\n",
        "\n",
        "for seed in seeds:\n",
        "    for feature in features_raw:\n",
        "\n",
        "        set_determinism(seed)\n",
        "\n",
        "        training_columns = [feature, \"label\"]\n",
        "        _, validation_set_raw = build_dataset_for_ml_model(df, training_columns=training_columns)\n",
        "\n",
        "        val_raw_signal, val_raw_rul = -validation_set_raw[:, 0], validation_set_raw[:, -1]\n",
        "\n",
        "        best_cost_raw, best_thr_raw, all_cost_raw, all_thr_raw = threshold_optimization(val_raw_signal, val_raw_rul, start=0, end=val_raw_signal.max(), n_steps=200)\n",
        "\n",
        "        f_path = threshold_path + \"raw_signal\" + \"-\" + feature + \"-s\" + str(seed) + \"-p0\"\n",
        "        to_serialize = (val_raw_signal, best_thr_raw, val_raw_rul)\n",
        "        with open(f_path, \"wb\") as file:\n",
        "            pickle.dump(to_serialize, file)\n",
        "\n",
        "        perf_raw = performance_evaluation(val_raw_signal, best_thr_raw, val_raw_rul)\n",
        "\n",
        "        serialize_perf(\"raw_signal\", seed=seed, columns_name=feature, training_columns=training_columns,\n",
        "                        params={}, params_idx=0, history=None, best_cost=best_cost_raw, best_thr=best_thr_raw,\n",
        "                        all_cost=all_cost_raw, all_thr=all_thr_raw, perf=perf_raw)\n",
        "\n",
        "        # No model saving here: there is just the threshold"
      ]
    },
    {
      "cell_type": "markdown",
      "id": "691254d9",
      "metadata": {
        "id": "691254d9"
      },
      "source": [
        "## Pre-anomaly detection with AutoEncoders"
      ]
    },
    {
      "cell_type": "code",
      "execution_count": null,
      "id": "20a0a58f",
      "metadata": {
        "id": "20a0a58f"
      },
      "outputs": [],
      "source": [
        "def build_autoencoder(input_size, hidden):\n",
        "    input_shape = (input_size, )\n",
        "    ae_x = keras.Input(shape=input_shape, dtype='float32')\n",
        "    x = ae_x\n",
        "    for h in hidden:\n",
        "        x = layers.Dense(h, activation='relu')(x)\n",
        "    ae_y = layers.Dense(input_size, activation='linear')(x)\n",
        "    ae = keras.Model(ae_x, ae_y)\n",
        "\n",
        "    return ae"
      ]
    },
    {
      "cell_type": "code",
      "execution_count": null,
      "id": "fc59e918",
      "metadata": {
        "id": "fc59e918"
      },
      "outputs": [],
      "source": [
        "params_ae = [{\"hidden_ae\": [16, 8, 2, 8, 16]},\n",
        "             {\"hidden_ae\": [64, 24, 9, 24, 64]},\n",
        "             {\"hidden_ae\": [128, 56, 18, 56, 128]}]"
      ]
    },
    {
      "cell_type": "code",
      "execution_count": null,
      "id": "1138942f",
      "metadata": {
        "id": "1138942f"
      },
      "outputs": [],
      "source": [
        "for seed in seeds:\n",
        "    for columns in features:\n",
        "        for params_idx, params in enumerate(params_ae):\n",
        "\n",
        "            set_determinism(seed)\n",
        "\n",
        "            training_set_ae, validation_set_ae = build_dataset_for_ml_model(df, training_columns=features[columns], ae=True)\n",
        "\n",
        "            train_cols_ae = training_set_ae.shape[1] - 1\n",
        "            ae = build_autoencoder(input_size=train_cols_ae, hidden=params[\"hidden_ae\"])\n",
        "            ae.compile(optimizer=keras.optimizers.Adam(learning_rate=learning_rate),\n",
        "                        loss='mse')\n",
        "            cb_ae = [callbacks.EarlyStopping(patience=patience, restore_best_weights=True)]\n",
        "            history_ae = ae.fit(training_set_ae[:, :-1], training_set_ae[:, :-1], validation_split=validation_split,\n",
        "                                callbacks=cb_ae, batch_size=batch_size, epochs=epochs, verbose=0)\n",
        "\n",
        "            preds_ae = ae.predict(validation_set_ae[:, :-1])\n",
        "\n",
        "            signal_ae = pd.Series(data=np.sum(np.square(preds_ae - validation_set_ae[:, :-1]), axis=1))\n",
        "            rul_ae = validation_set_ae[:, -1]\n",
        "\n",
        "            best_cost_ae, best_thr_ae, all_cost_ae, all_thr_ae = threshold_optimization(signal_ae, rul_ae, start=0, end=signal_ae.max(), n_steps=200)\n",
        "\n",
        "            f_path = threshold_path + \"autoencoder\" + \"-\" + columns + \"-s\" + str(seed) + \"-p\" + str(params_idx)\n",
        "            to_serialize = (signal_ae, best_thr_ae, rul_ae)\n",
        "            with open(f_path, \"wb\") as file:\n",
        "                pickle.dump(to_serialize, file)\n",
        "\n",
        "            perf_ae = performance_evaluation(signal_ae, best_thr_ae, rul_ae)\n",
        "\n",
        "            serialize_perf(\"autoencoder\", seed=seed, columns_name=columns, training_columns=features[columns],\n",
        "                            params=params, params_idx=params_idx, history=history_ae, best_cost=best_cost_ae, best_thr=best_thr_ae,\n",
        "                            all_cost=all_cost_ae, all_thr=all_thr_ae, perf=perf_ae)\n",
        "\n",
        "            ae.save(models_path + \"autoencoder\" + \"-\" + columns + \"-s\" + str(seed) + \"-p\" + str(params_idx))"
      ]
    },
    {
      "cell_type": "markdown",
      "id": "d123add4",
      "metadata": {
        "id": "d123add4"
      },
      "source": [
        "## RUL estimation with Dense Neural Networks"
      ]
    },
    {
      "cell_type": "code",
      "execution_count": null,
      "id": "5a98d1b9",
      "metadata": {
        "id": "5a98d1b9"
      },
      "outputs": [],
      "source": [
        "def build_classifier(input_size, hidden):\n",
        "    input_shape = (input_size,)\n",
        "    model_in = keras.Input(shape=input_shape, dtype='float32')\n",
        "    x = model_in\n",
        "    for h in hidden:\n",
        "        x = layers.Dense(h, activation='relu')(x)\n",
        "    model_out = layers.Dense(1, activation='sigmoid')(x)\n",
        "    model = keras.Model(model_in, model_out)\n",
        "    return model"
      ]
    },
    {
      "cell_type": "code",
      "execution_count": null,
      "id": "3f39e2f9",
      "metadata": {
        "id": "3f39e2f9"
      },
      "outputs": [],
      "source": [
        "params_mlp = [{\"hidden_mlp\": []},\n",
        "              {\"hidden_mlp\": [32]},\n",
        "              {\"hidden_mlp\": [64, 32]},\n",
        "              {\"hidden_mlp\": [128, 64, 32]}]"
      ]
    },
    {
      "cell_type": "markdown",
      "id": "99ad43d6",
      "metadata": {
        "id": "99ad43d6"
      },
      "source": [
        "**Class weights** are useful when you have an **unbalanced dataset** and you want to improve single-label classification results. With class weights, you can weight more the samples belonging to the rarest class."
      ]
    },
    {
      "cell_type": "code",
      "execution_count": null,
      "id": "202e0e4f",
      "metadata": {
        "id": "202e0e4f"
      },
      "outputs": [],
      "source": [
        "for seed in seeds:\n",
        "    for columns in features:\n",
        "        for params_idx, params in enumerate(params_mlp):\n",
        "\n",
        "            set_determinism(seed)\n",
        "\n",
        "            training_set_mlp, validation_set_mlp = build_dataset_for_ml_model(df, training_columns=features[columns])\n",
        "            counts_mlp = pd.Series(training_set_mlp[:, -1]).value_counts(normalize=True)\n",
        "            class_weight_mlp = {0: 1/counts_mlp[0], 1: 1/counts_mlp[1]}\n",
        "\n",
        "            input_size_mlp = training_set_mlp.shape[1] - 1\n",
        "            mlp = build_classifier(input_size=input_size_mlp, hidden=params[\"hidden_mlp\"])\n",
        "            mlp.compile(optimizer=keras.optimizers.Adam(learning_rate=learning_rate), loss='binary_crossentropy')\n",
        "            cb_mlp = [callbacks.EarlyStopping(patience=patience, restore_best_weights=True)]\n",
        "            history_mlp = mlp.fit(training_set_mlp[:, :-1], training_set_mlp[:, -1], validation_split=validation_split,\n",
        "                                  callbacks=cb_mlp, class_weight=class_weight_mlp,\n",
        "                                  batch_size=batch_size, epochs=epochs, verbose=0)\n",
        "\n",
        "            preds_mlp = mlp.predict(validation_set_mlp[:, :-1]).ravel()\n",
        "\n",
        "            signal_mlp = pd.Series(data=(1 - preds_mlp))\n",
        "            rul_mlp = validation_set_mlp[:, -1]\n",
        "\n",
        "            best_cost_mlp, best_thr_mlp, all_cost_mlp, all_thr_mlp = threshold_optimization(signal_mlp, rul_mlp, start=0, end=signal_mlp.max(), n_steps=200)\n",
        "\n",
        "            f_path = threshold_path + \"mlp\" + \"-\" + columns + \"-s\" + str(seed) + \"-p\" + str(params_idx)\n",
        "            to_serialize = (signal_mlp, best_thr_mlp, rul_mlp)\n",
        "            with open(f_path, \"wb\") as file:\n",
        "                pickle.dump(to_serialize, file)\n",
        "\n",
        "            perf_mlp = performance_evaluation(signal_mlp, best_thr_mlp, rul_mlp)\n",
        "\n",
        "            serialize_perf(\"mlp\", seed=seed, columns_name=columns, training_columns=features[columns],\n",
        "                            params=params, params_idx=params_idx, history=history_mlp, best_cost=best_cost_mlp, best_thr=best_thr_mlp,\n",
        "                            all_cost=all_cost_mlp, all_thr=all_thr_mlp, perf=perf_mlp)\n",
        "\n",
        "            mlp.save(models_path + \"mlp\" + \"-\" + columns + \"-s\" + str(seed) + \"-p\" + str(params_idx))"
      ]
    },
    {
      "cell_type": "markdown",
      "id": "fed1a1bb",
      "metadata": {
        "id": "fed1a1bb"
      },
      "source": [
        "## RUL estimation with Convolutional Neural Networks"
      ]
    },
    {
      "cell_type": "code",
      "execution_count": null,
      "id": "2cd3879f",
      "metadata": {
        "id": "2cd3879f"
      },
      "outputs": [],
      "source": [
        "def sliding_window_2D(data, w_len, stride=1):\n",
        "    # Get shifted tables\n",
        "    m = len(data)\n",
        "    lt = [data.iloc[i:m-w_len+i+1:stride, :].values for i in range(w_len)]\n",
        "    # Reshape to add a new axis\n",
        "    s = lt[0].shape\n",
        "    for i in range(w_len):\n",
        "        lt[i] = lt[i].reshape(s[0], 1, s[1])\n",
        "    # Concatenate\n",
        "    wdata = np.concatenate(lt, axis=1)\n",
        "    return wdata\n",
        "\n",
        "\n",
        "def sliding_window_by_fault(data, cols, w_len, stride=1):\n",
        "    l_w, l_r = [], []\n",
        "    cols.pop()  # remove \"label\"\n",
        "    for gdata in data:\n",
        "        # Apply a sliding window\n",
        "        tmp_w = sliding_window_2D(gdata[cols], w_len, stride)\n",
        "        # Build the RUL vector\n",
        "        tmp_r = gdata['label'].iloc[w_len-1::stride]\n",
        "        # Store everything\n",
        "        l_w.append(tmp_w)\n",
        "        l_r.append(tmp_r)\n",
        "    res_w = np.concatenate(l_w)\n",
        "    res_r = np.concatenate(l_r)\n",
        "    return res_w, res_r"
      ]
    },
    {
      "cell_type": "code",
      "execution_count": null,
      "id": "7b19381b",
      "metadata": {
        "id": "7b19381b"
      },
      "outputs": [],
      "source": [
        "def build_cnn_regressor(input_size, filters, kernel_size, hidden, w_len):\n",
        "    input_shape = (w_len, input_size)\n",
        "    model_in = keras.Input(shape=input_shape, dtype='float32')\n",
        "    model_out = layers.Conv1D(filters, kernel_size=kernel_size,\n",
        "                              activation='relu')(model_in)\n",
        "    model_out = layers.Flatten()(model_out)\n",
        "    for h in hidden:\n",
        "        model_out = layers.Dense(h, activation='relu')(model_out)\n",
        "    model_out = layers.Dense(1, activation='sigmoid')(model_out)\n",
        "    model = keras.Model(model_in, model_out)\n",
        "    return model"
      ]
    },
    {
      "cell_type": "code",
      "execution_count": null,
      "id": "3b75ef45",
      "metadata": {
        "id": "3b75ef45"
      },
      "outputs": [],
      "source": [
        "params_cnn = [{\"filters\": 1, \"kernel_size\": 3, \"hidden\": [32], \"w_len\": 5},\n",
        "              {\"filters\": 4, \"kernel_size\": 3, \"hidden\": [32], \"w_len\": 5},\n",
        "              {\"filters\": 1, \"kernel_size\": 5, \"hidden\": [32], \"w_len\": 5},\n",
        "              {\"filters\": 4, \"kernel_size\": 5, \"hidden\": [32], \"w_len\": 5},\n",
        "              {\"filters\": 4, \"kernel_size\": 5, \"hidden\": [64, 32], \"w_len\": 5},\n",
        "              {\"filters\": 1, \"kernel_size\": 3, \"hidden\": [32], \"w_len\": 10},\n",
        "              {\"filters\": 4, \"kernel_size\": 3, \"hidden\": [32], \"w_len\": 10},\n",
        "              {\"filters\": 1, \"kernel_size\": 5, \"hidden\": [32], \"w_len\": 10},\n",
        "              {\"filters\": 4, \"kernel_size\": 5, \"hidden\": [32], \"w_len\": 10},\n",
        "              {\"filters\": 4, \"kernel_size\": 5, \"hidden\": [64, 32], \"w_len\": 10},\n",
        "              {\"filters\": 4, \"kernel_size\": 7, \"hidden\": [128, 64, 32], \"w_len\": 10},\n",
        "              {\"filters\": 1, \"kernel_size\": 3, \"hidden\": [64, 32], \"w_len\": 5},\n",
        "              {\"filters\": 1, \"kernel_size\": 5, \"hidden\": [64, 32], \"w_len\": 5},\n",
        "              {\"filters\": 1, \"kernel_size\": 3, \"hidden\": [64, 32], \"w_len\": 10},\n",
        "              {\"filters\": 1, \"kernel_size\": 5, \"hidden\": [64, 32], \"w_len\": 10}]"
      ]
    },
    {
      "cell_type": "code",
      "execution_count": null,
      "id": "8535c7aa",
      "metadata": {
        "scrolled": true,
        "id": "8535c7aa"
      },
      "outputs": [],
      "source": [
        "for seed in seeds:\n",
        "    for columns in features:\n",
        "        for params_idx, params in enumerate(params_cnn):\n",
        "\n",
        "            set_determinism(seed)\n",
        "\n",
        "            traning_set_cnn, validation_set_cnn = build_dataset_for_ml_model(df, training_columns=features[columns], as_list=True)\n",
        "            tr_sw, tr_sw_r = sliding_window_by_fault(traning_set_cnn, features[columns].copy(), params[\"w_len\"])\n",
        "            val_sw, val_sw_r = sliding_window_by_fault(validation_set_cnn, features[columns].copy(), params[\"w_len\"])\n",
        "            counts_cnn = pd.Series(tr_sw_r).value_counts(normalize=True)\n",
        "            class_weight_cnn = {0: 1/counts_cnn[0], 1: 1/counts_cnn[1]}\n",
        "\n",
        "            input_size_cnn = tr_sw[0].shape[1]\n",
        "            cnn = build_cnn_regressor(input_size=input_size_cnn, filters=params[\"filters\"],\n",
        "                                      kernel_size=params[\"kernel_size\"], hidden=params[\"hidden\"], w_len=params[\"w_len\"])\n",
        "            cnn.compile(optimizer=keras.optimizers.Adam(learning_rate=learning_rate),\n",
        "                        loss='binary_crossentropy')\n",
        "            cb_cnn = [callbacks.EarlyStopping(patience=patience, restore_best_weights=True)]\n",
        "            history_cnn = cnn.fit(tr_sw, tr_sw_r, validation_split=validation_split,\n",
        "                                  callbacks=cb_cnn,\n",
        "                                  class_weight=class_weight_cnn,\n",
        "                                  batch_size=batch_size, epochs=epochs, verbose=0)\n",
        "\n",
        "            preds_cnn = cnn.predict(val_sw).ravel()\n",
        "\n",
        "            signal_cnn = pd.Series(data=(1 - preds_cnn))\n",
        "            rul_cnn = val_sw_r\n",
        "\n",
        "            best_cost_cnn, best_thr_cnn, all_cost_cnn, all_thr_cnn = threshold_optimization(signal_cnn, rul_cnn, start=0, end=signal_cnn.max(), n_steps=200)\n",
        "\n",
        "            f_path = threshold_path + \"conv_nn\" + \"-\" + columns + \"-s\" + str(seed) + \"-p\" + str(params_idx)\n",
        "            to_serialize = (signal_cnn, best_thr_cnn, rul_cnn)\n",
        "            with open(f_path, \"wb\") as file:\n",
        "                pickle.dump(to_serialize, file)\n",
        "\n",
        "            perf_cnn = performance_evaluation(signal_cnn, best_thr_cnn, rul_cnn)\n",
        "\n",
        "            serialize_perf(\"conv_nn\", seed=seed, columns_name=columns, training_columns=features[columns],\n",
        "                           params=params, params_idx=params_idx, history=history_cnn, best_cost=best_cost_cnn, best_thr=best_thr_cnn,\n",
        "                           all_cost=all_cost_cnn, all_thr=all_thr_cnn, perf=perf_cnn)\n",
        "\n",
        "            cnn.save(models_path + \"conv_nn\" + \"-\" + columns + \"-s\" + str(seed) + \"-p\" + str(params_idx))"
      ]
    },
    {
      "cell_type": "markdown",
      "id": "94a9cffd",
      "metadata": {
        "id": "94a9cffd"
      },
      "source": [
        "## RUL estimation with Recurrent Neural Networks (LSTM and GRU)"
      ]
    },
    {
      "cell_type": "code",
      "execution_count": null,
      "id": "346264c9",
      "metadata": {
        "id": "346264c9"
      },
      "outputs": [],
      "source": [
        "def create_dataset_3D(X, y, time_steps):\n",
        "    Xs, ys = [], []\n",
        "    for i in range(len(X)-time_steps):\n",
        "        v = X[i:i+time_steps, :]\n",
        "        Xs.append(v)\n",
        "        ys.append(y[i+time_steps])\n",
        "    return np.array(Xs), np.array(ys).reshape(-1, 1)"
      ]
    },
    {
      "cell_type": "code",
      "execution_count": null,
      "id": "c76c2161",
      "metadata": {
        "id": "c76c2161"
      },
      "outputs": [],
      "source": [
        "def create_model_cl(units, m, X_train, lr):\n",
        "    model = keras.Sequential()\n",
        "    model.add(m(units=units, return_sequences=True,\n",
        "                input_shape=[X_train.shape[1], X_train.shape[2]]))\n",
        "    model.add(m(units=units))\n",
        "    model.add(keras.layers.Dense(units=1, activation=\"sigmoid\"))\n",
        "    model.compile(loss='binary_crossentropy',\n",
        "                  optimizer=keras.optimizers.Adam(learning_rate=lr))\n",
        "    return model"
      ]
    },
    {
      "cell_type": "code",
      "execution_count": null,
      "id": "74bbcf5a",
      "metadata": {
        "id": "74bbcf5a"
      },
      "outputs": [],
      "source": [
        "params_rnn = [{\"time_steps\": 5, \"units\": 64},\n",
        "              {\"time_steps\": 5, \"units\": 128},\n",
        "              {\"time_steps\": 10, \"units\": 64},\n",
        "              {\"time_steps\": 10, \"units\": 128}]"
      ]
    },
    {
      "cell_type": "code",
      "execution_count": null,
      "id": "040e5782",
      "metadata": {
        "id": "040e5782"
      },
      "outputs": [],
      "source": [
        "for seed in seeds:\n",
        "    for columns in features:\n",
        "        for params_idx, params in enumerate(params_rnn):\n",
        "\n",
        "            set_determinism(seed)\n",
        "\n",
        "            traning_set_rnn, validation_set_rnn = build_dataset_for_ml_model(df, training_columns=features[columns])\n",
        "            X_train_rnn, y_train_rnn = create_dataset_3D(traning_set_rnn[:, :-1],\n",
        "                                                          traning_set_rnn[:, -1],\n",
        "                                                          params[\"time_steps\"])\n",
        "            X_val_rnn, y_val_rnn = create_dataset_3D(validation_set_rnn[:, :-1],\n",
        "                                                      validation_set_rnn[:, -1],\n",
        "                                                      params[\"time_steps\"])\n",
        "            counts_rnn = pd.Series(tr_sw_r).value_counts(normalize=True)\n",
        "            class_weight_rnn = {0: 1/counts_rnn[0], 1: 1/counts_rnn[1]}\n",
        "\n",
        "            model_gru = create_model_cl(params[\"units\"], keras.layers.GRU, X_train_rnn, learning_rate)\n",
        "            early_stop = [callbacks.EarlyStopping(patience=patience, restore_best_weights=True)]\n",
        "            history_gru = model_gru.fit(X_train_rnn, y_train_rnn, epochs=epochs,\n",
        "                                        class_weight=class_weight_rnn,\n",
        "                                        validation_split=validation_split, batch_size=batch_size,\n",
        "                                        shuffle=False, callbacks=early_stop)\n",
        "\n",
        "            model_lstm = create_model_cl(params[\"units\"], keras.layers.LSTM, X_train_rnn, learning_rate)\n",
        "            early_stop = [callbacks.EarlyStopping(patience=patience, restore_best_weights=True)]\n",
        "            history_lstm = model_lstm.fit(X_train_rnn, y_train_rnn, epochs=epochs,\n",
        "                                          class_weight=class_weight_rnn,\n",
        "                                          validation_split=validation_split, batch_size=batch_size,\n",
        "                                          shuffle=False, callbacks=early_stop, verbose=0)\n",
        "\n",
        "            preds_lstm = model_lstm.predict(X_val_rnn).ravel()\n",
        "            preds_gru = model_gru.predict(X_val_rnn).ravel()\n",
        "\n",
        "            signal_lstm = pd.Series(data=(1 - preds_lstm))\n",
        "            rul_lstm = y_val_rnn\n",
        "            signal_gru = pd.Series(data=(1 - preds_gru))\n",
        "            rul_gru = y_val_rnn\n",
        "\n",
        "            best_cost_lstm, best_thr_lstm, all_cost_lstm, all_thr_lstm = threshold_optimization(signal_lstm, rul_lstm, start=0, end=signal_lstm.max(), n_steps=200)\n",
        "            best_cost_gru, best_thr_gru, all_cost_gru, all_thr_gru = threshold_optimization(signal_gru, rul_gru, start=0, end=signal_gru.max(), n_steps=200)\n",
        "\n",
        "            f_path = threshold_path + \"lstm\" + \"-\" + columns + \"-s\" + str(seed) + \"-p\" + str(params_idx)\n",
        "            to_serialize = (signal_lstm, best_thr_lstm, rul_lstm)\n",
        "            with open(f_path, \"wb\") as file:\n",
        "                pickle.dump(to_serialize, file)\n",
        "\n",
        "            f_path = threshold_path + \"gru\" + \"-\" + columns + \"-s\" + str(seed) + \"-p\" + str(params_idx)\n",
        "            to_serialize = (signal_gru, best_thr_gru, rul_gru)\n",
        "            with open(f_path, \"wb\") as file:\n",
        "                pickle.dump(to_serialize, file)\n",
        "\n",
        "            perf_lstm = performance_evaluation(signal_lstm, best_thr_lstm, rul_lstm)\n",
        "            perf_gru = performance_evaluation(signal_gru, best_thr_gru, rul_gru)\n",
        "\n",
        "            serialize_perf(\"lstm\", seed=seed, columns_name=columns, training_columns=features[columns],\n",
        "                            params=params, params_idx=params_idx, history=history_lstm, best_cost=best_cost_lstm, best_thr=best_thr_lstm,\n",
        "                            all_cost=all_cost_lstm, all_thr=all_thr_lstm, perf=perf_lstm)\n",
        "\n",
        "            model_lstm.save(models_path + \"lstm\" + \"-\" + columns + \"-s\" + str(seed) + \"-p\" + str(params_idx))\n",
        "\n",
        "            serialize_perf(\"gru\", seed=seed, columns_name=columns, training_columns=features[columns],\n",
        "                            params=params, params_idx=params_idx, history=history_gru, best_cost=best_cost_gru, best_thr=best_thr_gru,\n",
        "                            all_cost=all_cost_gru, all_thr=all_thr_gru, perf=perf_gru)\n",
        "\n",
        "            model_gru.save(models_path + \"gru\" + \"-\" + columns + \"-s\" + str(seed) + \"-p\" + str(params_idx))"
      ]
    },
    {
      "cell_type": "markdown",
      "id": "b435c370",
      "metadata": {
        "id": "b435c370"
      },
      "source": [
        "## RUL estimation with Recurrent Neural Networks (BiLSTM)"
      ]
    },
    {
      "cell_type": "code",
      "execution_count": null,
      "id": "8b128c9e",
      "metadata": {
        "id": "8b128c9e"
      },
      "outputs": [],
      "source": [
        "def create_model_bilstm_cl(units, X_train, lr):\n",
        "    model = keras.Sequential()\n",
        "    model.add(keras.layers.Bidirectional(keras.layers.LSTM(units=units,\n",
        "              return_sequences=True),\n",
        "              input_shape=(X_train.shape[1], X_train.shape[2])))\n",
        "    model.add(keras.layers.Bidirectional(keras.layers.LSTM(units=units)))\n",
        "    model.add(keras.layers.Dense(1, activation=\"sigmoid\"))\n",
        "    model.compile(loss='binary_crossentropy',\n",
        "                  optimizer=keras.optimizers.Adam(learning_rate=lr))\n",
        "    return model"
      ]
    },
    {
      "cell_type": "code",
      "execution_count": null,
      "id": "47b1f9a3",
      "metadata": {
        "id": "47b1f9a3"
      },
      "outputs": [],
      "source": [
        "params_bilstm = [{\"time_steps\": 5, \"units\": 64},\n",
        "                 {\"time_steps\": 5, \"units\": 128},\n",
        "                 {\"time_steps\": 10, \"units\": 64},\n",
        "                 {\"time_steps\": 10, \"units\": 128}]"
      ]
    },
    {
      "cell_type": "code",
      "execution_count": null,
      "id": "dc3bf177",
      "metadata": {
        "id": "dc3bf177"
      },
      "outputs": [],
      "source": [
        "for seed in seeds:\n",
        "    for columns in features:\n",
        "        for params_idx, params in enumerate(params_bilstm):\n",
        "\n",
        "            set_determinism(seed)\n",
        "\n",
        "            traning_set_bilstm, validation_set_bilstm = build_dataset_for_ml_model(df, training_columns=features[columns])\n",
        "            X_train_bilstm, y_train_bilstm = create_dataset_3D(traning_set_bilstm[:, :-1],\n",
        "                                                                traning_set_bilstm[:, -1],\n",
        "                                                                params[\"time_steps\"])\n",
        "            X_val_bilstm, y_val_bilstm = create_dataset_3D(validation_set_bilstm[:, :-1],\n",
        "                                                            validation_set_bilstm[:, -1],\n",
        "                                                            params[\"time_steps\"])\n",
        "            counts_bilstm = pd.Series(tr_sw_r).value_counts(normalize=True)\n",
        "            class_weight_bilstm = {0: 1/counts_bilstm[0], 1: 1/counts_bilstm[1]}\n",
        "            model_bilstm = create_model_bilstm_cl(params[\"units\"], X_train_bilstm, learning_rate)\n",
        "            early_stop = [callbacks.EarlyStopping(patience=patience, restore_best_weights=True)]\n",
        "            history_bilstm = model_bilstm.fit(X_train_bilstm, y_train_bilstm, epochs=epochs,\n",
        "                                              class_weight=class_weight_bilstm,\n",
        "                                              validation_split=validation_split, batch_size=batch_size,\n",
        "                                              shuffle=False, callbacks=early_stop, verbose=0)\n",
        "\n",
        "            preds_bilstm = model_bilstm.predict(X_val_bilstm).ravel()\n",
        "\n",
        "            signal_bilstm = pd.Series(data=(1 - preds_bilstm))\n",
        "            rul_bilstm = y_val_bilstm\n",
        "\n",
        "            best_cost_bilstm, best_thr_bilstm, all_cost_bilstm, all_thr_bilstm = threshold_optimization(signal_bilstm, rul_bilstm, start=0, end=signal_bilstm.max(), n_steps=200)\n",
        "\n",
        "            f_path = threshold_path + \"bilstm\" + \"-\" + columns + \"-s\" + str(seed) + \"-p\" + str(params_idx)\n",
        "            to_serialize = (signal_bilstm, best_thr_bilstm, rul_bilstm)\n",
        "            with open(f_path, \"wb\") as file:\n",
        "                pickle.dump(to_serialize, file)\n",
        "\n",
        "            perf_bilstm = performance_evaluation(signal_bilstm, best_thr_bilstm, rul_bilstm)\n",
        "\n",
        "            serialize_perf(\"bilstm\", seed=seed, columns_name=columns, training_columns=features[columns],\n",
        "                            params=params, params_idx=params_idx, history=history_bilstm, best_cost=best_cost_bilstm, best_thr=best_thr_bilstm,\n",
        "                            all_cost=all_cost_bilstm, all_thr=all_thr_bilstm, perf=perf_bilstm)\n",
        "\n",
        "            model_bilstm.save(models_path + \"bilstm\" + \"-\" + columns + \"-s\" + str(seed) + \"-p\" + str(params_idx))"
      ]
    },
    {
      "cell_type": "markdown",
      "source": [
        "## RUL estimation with Transformers"
      ],
      "metadata": {
        "id": "1UAQZ-sZm7Iy"
      },
      "id": "1UAQZ-sZm7Iy"
    },
    {
      "cell_type": "code",
      "source": [
        "def transformer_encoder(inputs, head_size, num_heads, ff_dim, dropout=0):\n",
        "    # Normalization and Attention\n",
        "    x = layers.LayerNormalization(epsilon=1e-6)(inputs)\n",
        "    x = layers.MultiHeadAttention(\n",
        "        key_dim=head_size, num_heads=num_heads, dropout=dropout\n",
        "    )(x, x)\n",
        "    x = layers.Dropout(dropout)(x)\n",
        "    res = x + inputs\n",
        "\n",
        "    # Feed Forward Part\n",
        "    x = layers.LayerNormalization(epsilon=1e-6)(res)\n",
        "    x = layers.Conv1D(filters=ff_dim, kernel_size=1, activation=\"relu\")(x)\n",
        "    x = layers.Dropout(dropout)(x)\n",
        "    x = layers.Conv1D(filters=inputs.shape[-1], kernel_size=1)(x)\n",
        "    return x + res\n",
        "\n",
        "def build_transformer(\n",
        "    input_shape,\n",
        "    head_size,\n",
        "    num_heads,\n",
        "    ff_dim,\n",
        "    num_transformer_blocks,\n",
        "    mlp_units,\n",
        "    dropout=0,\n",
        "    mlp_dropout=0,\n",
        "):\n",
        "    inputs = keras.Input(shape=input_shape)\n",
        "    x = inputs\n",
        "    for _ in range(num_transformer_blocks):\n",
        "        x = transformer_encoder(x, head_size, num_heads, ff_dim, dropout)\n",
        "\n",
        "    x = layers.GlobalAveragePooling1D(data_format=\"channels_first\")(x)\n",
        "    for dim in mlp_units:\n",
        "        x = layers.Dense(dim, activation=\"relu\")(x)\n",
        "        x = layers.Dropout(mlp_dropout)(x)\n",
        "    outputs = layers.Dense(1, activation=\"sigmoid\")(x)\n",
        "    return keras.Model(inputs, outputs)"
      ],
      "metadata": {
        "id": "092OY8-Mm-E0"
      },
      "id": "092OY8-Mm-E0",
      "execution_count": null,
      "outputs": []
    },
    {
      "cell_type": "code",
      "source": [
        "params_transformer = [{\"head_size\": 128, \"num_heads\": 2, \"ff_dim\": 2, \"num_transformer_blocks\": 2,\n",
        "                       \"mlp_units\": [64], \"mlp_dropout\": 0.3, \"dropout\": 0.25, \"w_len\": 5},\n",
        "                      {\"head_size\": 128, \"num_heads\": 2, \"ff_dim\": 2, \"num_transformer_blocks\": 2,\n",
        "                       \"mlp_units\": [64], \"mlp_dropout\": 0.3, \"dropout\": 0.25, \"w_len\": 10},\n",
        "                      {\"head_size\": 128, \"num_heads\": 2, \"ff_dim\": 2, \"num_transformer_blocks\": 2,\n",
        "                       \"mlp_units\": [64], \"mlp_dropout\": 0.3, \"dropout\": 0.25, \"w_len\": 15},\n",
        "                      {\"head_size\": 256, \"num_heads\": 4, \"ff_dim\": 4, \"num_transformer_blocks\": 4,\n",
        "                       \"mlp_units\": [128], \"mlp_dropout\": 0.4, \"dropout\": 0.25, \"w_len\": 5},\n",
        "                      {\"head_size\": 256, \"num_heads\": 4, \"ff_dim\": 4, \"num_transformer_blocks\": 4,\n",
        "                       \"mlp_units\": [128], \"mlp_dropout\": 0.4, \"dropout\": 0.25, \"w_len\": 10},\n",
        "                      {\"head_size\": 256, \"num_heads\": 4, \"ff_dim\": 4, \"num_transformer_blocks\": 4,\n",
        "                       \"mlp_units\": [128], \"mlp_dropout\": 0.4, \"dropout\": 0.25, \"w_len\": 15},\n",
        "                      {\"head_size\": 128, \"num_heads\": 4, \"ff_dim\": 2, \"num_transformer_blocks\": 4,\n",
        "                       \"mlp_units\": [128], \"mlp_dropout\": 0.4, \"dropout\": 0.25, \"w_len\": 10},\n",
        "                      {\"head_size\": 128, \"num_heads\": 4, \"ff_dim\": 2, \"num_transformer_blocks\": 2,\n",
        "                       \"mlp_units\": [64], \"mlp_dropout\": 0.3, \"dropout\": 0.25, \"w_len\": 10},\n",
        "                      {\"head_size\": 256, \"num_heads\": 2, \"ff_dim\": 3, \"num_transformer_blocks\": 4,\n",
        "                       \"mlp_units\": [128, 64], \"mlp_dropout\": 0.4, \"dropout\": 0.25, \"w_len\": 15},\n",
        "                      {\"head_size\": 256, \"num_heads\": 3, \"ff_dim\": 3, \"num_transformer_blocks\": 3,\n",
        "                       \"mlp_units\": [128], \"mlp_dropout\": 0.4, \"dropout\": 0.25, \"w_len\": 10},]"
      ],
      "metadata": {
        "id": "QXeIGbz9nHKF"
      },
      "id": "QXeIGbz9nHKF",
      "execution_count": null,
      "outputs": []
    },
    {
      "cell_type": "code",
      "source": [
        "for seed in seeds:\n",
        "    for columns in features:\n",
        "        for params_idx, params in enumerate(params_transformer):\n",
        "\n",
        "            set_determinism(seed)\n",
        "\n",
        "            traning_set, validation_set = build_dataset_for_ml_model(df, training_columns=features[columns], as_list=True)\n",
        "            tr_sw, tr_sw_r = sliding_window_by_fault(traning_set, features[columns].copy(), params[\"w_len\"])\n",
        "            val_sw, val_sw_r = sliding_window_by_fault(validation_set, features[columns].copy(), params[\"w_len\"])\n",
        "            counts = pd.Series(tr_sw_r).value_counts(normalize=True)\n",
        "            class_weight = {0: 1/counts[0], 1: 1/counts[1]}\n",
        "            input_size = tr_sw[0].shape\n",
        "\n",
        "            transformer = build_transformer(input_size,\n",
        "                                            head_size=params[\"head_size\"],\n",
        "                                            num_heads=params[\"num_heads\"],\n",
        "                                            ff_dim=params[\"ff_dim\"],\n",
        "                                            num_transformer_blocks=params[\"num_transformer_blocks\"],\n",
        "                                            mlp_units=params[\"mlp_units\"],\n",
        "                                            mlp_dropout=params[\"mlp_dropout\"],\n",
        "                                            dropout=params[\"dropout\"])\n",
        "            transformer.compile(optimizer=keras.optimizers.Adam(learning_rate=learning_rate),\n",
        "                                loss='binary_crossentropy',\n",
        "                                metrics=[\"accuracy\"])\n",
        "            cb = [callbacks.EarlyStopping(patience=patience, restore_best_weights=True)]\n",
        "            history = transformer.fit(tr_sw, tr_sw_r, validation_split=validation_split,\n",
        "                                      callbacks=cb, class_weight=class_weight,\n",
        "                                      batch_size=batch_size, epochs=epochs, verbose=0)\n",
        "\n",
        "            preds = transformer.predict(val_sw).ravel()\n",
        "\n",
        "            signal = pd.Series(data=(1 - preds))\n",
        "            rul = val_sw_r\n",
        "\n",
        "            best_cost, best_thr, all_cost, all_thr = threshold_optimization(signal, rul, start=0, end=signal.max(), n_steps=200)\n",
        "\n",
        "            f_path = threshold_path + \"transformer\" + \"-\" + columns + \"-s\" + str(seed) + \"-p\" + str(params_idx)\n",
        "            to_serialize = (signal, best_thr, rul)\n",
        "            with open(f_path, \"wb\") as file:\n",
        "                pickle.dump(to_serialize, file)\n",
        "\n",
        "            perf = performance_evaluation(signal, best_thr, rul)\n",
        "\n",
        "            serialize_perf(\"transformer\", seed=seed, columns_name=columns, training_columns=features[columns],\n",
        "                           params=params, params_idx=params_idx, history=history, best_cost=best_cost, best_thr=best_thr,\n",
        "                           all_cost=all_cost, all_thr=all_thr, perf=perf)\n",
        "\n",
        "            transformer.save(models_path + \"transformer\" + \"-\" + columns + \"-s\" + str(seed) + \"-p\" + str(params_idx))"
      ],
      "metadata": {
        "id": "XciFl4FHnRQX"
      },
      "id": "XciFl4FHnRQX",
      "execution_count": null,
      "outputs": []
    }
  ],
  "metadata": {
    "kernelspec": {
      "display_name": "Python 3",
      "language": "python",
      "name": "python3"
    },
    "language_info": {
      "codemirror_mode": {
        "name": "ipython",
        "version": 3
      },
      "file_extension": ".py",
      "mimetype": "text/x-python",
      "name": "python",
      "nbconvert_exporter": "python",
      "pygments_lexer": "ipython3",
      "version": "3.8.10"
    },
    "colab": {
      "provenance": []
    }
  },
  "nbformat": 4,
  "nbformat_minor": 5
}